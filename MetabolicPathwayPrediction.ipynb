{
  "nbformat": 4,
  "nbformat_minor": 0,
  "metadata": {
    "colab": {
      "name": "MetabolicPathwayPrediction.ipynb",
      "provenance": [],
      "collapsed_sections": []
    },
    "kernelspec": {
      "name": "python3",
      "display_name": "Python 3"
    },
    "language_info": {
      "name": "python"
    }
  },
  "cells": [
    {
      "cell_type": "markdown",
      "source": [
        "# Multi-class GCN"
      ],
      "metadata": {
        "id": "Wu6INUw3wDAK"
      }
    },
    {
      "cell_type": "code",
      "source": [
        "!pip install rdkit-pypi"
      ],
      "metadata": {
        "colab": {
          "base_uri": "https://localhost:8080/"
        },
        "id": "aUe6V789wHm5",
        "outputId": "feb1731c-4879-4e49-943d-1a2fc3aee9ec"
      },
      "execution_count": null,
      "outputs": [
        {
          "output_type": "stream",
          "name": "stdout",
          "text": [
            "Collecting rdkit-pypi\n",
            "  Downloading rdkit_pypi-2021.9.3-cp37-cp37m-manylinux_2_17_x86_64.manylinux2014_x86_64.whl (20.6 MB)\n",
            "\u001b[K     |████████████████████████████████| 20.6 MB 1.2 MB/s \n",
            "\u001b[?25hRequirement already satisfied: numpy>=1.19 in /usr/local/lib/python3.7/dist-packages (from rdkit-pypi) (1.19.5)\n",
            "Installing collected packages: rdkit-pypi\n",
            "Successfully installed rdkit-pypi-2021.9.3\n"
          ]
        }
      ]
    },
    {
      "cell_type": "code",
      "source": [
        "from urllib.request import urlopen\n",
        "from urllib.parse import quote\n",
        "\n",
        "def CIRconvert(ids):\n",
        "    try:\n",
        "        url = 'http://cactus.nci.nih.gov/chemical/structure/' + quote(ids) + '/smiles'\n",
        "        ans = urlopen(url).read().decode('utf8')\n",
        "        return ans\n",
        "    except:\n",
        "        return 'Did not work'\n",
        "\n",
        "identifiers  = ['2-Oxopropanoic acid', 'Pyruvic acid','Pyruvate']\n",
        "\n",
        "for ids in identifiers :\n",
        "    print(ids, CIRconvert(ids))"
      ],
      "metadata": {
        "colab": {
          "base_uri": "https://localhost:8080/"
        },
        "id": "hDDnkJXOxlQi",
        "outputId": "ae043a3f-1b97-4e73-f0c4-772d2746e133"
      },
      "execution_count": null,
      "outputs": [
        {
          "output_type": "stream",
          "name": "stdout",
          "text": [
            "2-Oxopropanoic acid CC(=O)C(O)=O\n",
            "Pyruvic acid CC(=O)C(O)=O\n",
            "Pyruvate CC(=O)C([O-])=O\n"
          ]
        }
      ]
    },
    {
      "cell_type": "code",
      "source": [
        "Chem.MolFromSmiles('CC(=O)C(=O)O')"
      ],
      "metadata": {
        "colab": {
          "base_uri": "https://localhost:8080/"
        },
        "id": "4yZTSPcS2nwt",
        "outputId": "db9a3832-02d3-48a6-e82c-7b3c481eaeb7"
      },
      "execution_count": null,
      "outputs": [
        {
          "output_type": "execute_result",
          "data": {
            "text/plain": [
              "<rdkit.Chem.rdchem.Mol at 0x7f897275a030>"
            ]
          },
          "metadata": {},
          "execution_count": 10
        }
      ]
    },
    {
      "cell_type": "code",
      "execution_count": null,
      "metadata": {
        "id": "mG14OHT-v-gX"
      },
      "outputs": [],
      "source": [
        "from collections import defaultdict\n",
        "import os\n",
        "import pickle\n",
        "import timeit\n",
        "import numpy as np\n",
        "import matplotlib.pyplot as plt\n",
        "from PIL import Image\n",
        "\n",
        "from rdkit import Chem\n",
        "from rdkit.Chem import rdDepictor, Descriptors\n",
        "from rdkit.Chem import Draw\n",
        "from rdkit.Chem.Draw import rdMolDraw2D\n",
        "\n",
        "import torch\n",
        "import torch.nn as nn\n",
        "import torch.nn.functional as F\n",
        "import torch.optim as optim\n",
        "\n",
        "from sklearn.metrics import accuracy_score, precision_score, recall_score"
      ]
    },
    {
      "cell_type": "code",
      "source": [
        "# dictionary of atoms where a new element gets a new index\n",
        "def create_atom_index(mol):\n",
        "    atoms = [atom_dict[a.GetSymbol()] for a in mol.GetAtoms()]\n",
        "    atoms = np.array(atoms)\n",
        "    return atoms\n",
        "\n",
        "# format from_atomIDx : [to_atomIDx, bondDict]\n",
        "def create_ijbonddict(mol):\n",
        "    i_jbond_dict = defaultdict(lambda: [])\n",
        "    for b in mol.GetBonds():\n",
        "        i, j = b.GetBeginAtomIdx(), b.GetEndAtomIdx()\n",
        "        bond = bond_dict[str(b.GetBondType())]\n",
        "        i_jbond_dict[i].append((j, bond))\n",
        "        i_jbond_dict[j].append((i, bond))\n",
        "    return i_jbond_dict\n",
        "\n",
        "def create_fingerprints(atoms, i_jbond_dict, radius):\n",
        "    \"\"\"Extract the r-radius subgraphs (i.e., fingerprints)\n",
        "    from a molecular graph using WeisfeilerLehman-like algorithm.\"\"\"\n",
        "\n",
        "    if (len(atoms) == 1) or (radius == 0):\n",
        "        fingerprints = [fingerprint_dict[a] for a in atoms]\n",
        "    else:\n",
        "        vertices = atoms\n",
        "        for _ in range(radius):\n",
        "            fingerprints = []\n",
        "            for i, j_bond in i_jbond_dict.items():\n",
        "                neighbors = [(vertices[j], bond) for j, bond in j_bond]\n",
        "                fingerprint = (vertices[i], tuple(sorted(neighbors)))\n",
        "                fingerprints.append(fingerprint_dict[fingerprint])\n",
        "            vertices = fingerprints\n",
        "\n",
        "    return np.array(fingerprints)\n",
        "\n",
        "def create_adjacency(mol):\n",
        "    adjacency = Chem.GetAdjacencyMatrix(mol)\n",
        "    n = adjacency.shape[0]\n",
        "    adjacency = adjacency + np.eye(n)\n",
        "    degree = sum(adjacency)\n",
        "    d_half = np.sqrt(np.diag(degree))\n",
        "    d_half_inv = np.linalg.inv(d_half)\n",
        "    adjacency = np.matmul(d_half_inv,np.matmul(adjacency,d_half_inv))\n",
        "    return np.array(adjacency)\n",
        "\n",
        "def dump_dictionary(dictionary, file_name):\n",
        "    with open(file_name, 'wb') as f:\n",
        "        pickle.dump(dict(dictionary), f)\n",
        "\n",
        "def load_pickle(file_name):\n",
        "    with open(file_name, 'rb') as f:\n",
        "        return pickle.load(f)"
      ],
      "metadata": {
        "id": "Y5yWktNbwQH2"
      },
      "execution_count": null,
      "outputs": []
    },
    {
      "cell_type": "code",
      "source": [
        "radius = 2\n",
        "\n",
        "with open('kegg_classes.txt', 'r') as f:\n",
        "    data_list = f.read().strip().split('\\n')\n",
        "    \n",
        "\"\"\"Exclude the data contains \".\" in the smiles, which correspond to non-bonds\"\"\"\n",
        "data_list = list(filter(lambda x: '.' not in x.strip().split()[0], data_list))\n",
        "N = len(data_list)\n",
        "\n",
        "print('Total number of molecules : %d' %(N))\n",
        "\n",
        "atom_dict = defaultdict(lambda: len(atom_dict))\n",
        "bond_dict = defaultdict(lambda: len(bond_dict))\n",
        "fingerprint_dict = defaultdict(lambda: len(fingerprint_dict))\n",
        "\n",
        "Molecules, Adjacencies, Properties, descriptors = [], [], [], []\n",
        "counts = [0]*11\n",
        "\n",
        "for no, data in enumerate(data_list):\n",
        "    smiles, property_indices = data.strip().split('\\t')\n",
        "    property_s = property_indices.strip().split(',')\n",
        "    \n",
        "    property = np.zeros((1,11))\n",
        "    for prop in property_s:\n",
        "        property[0,int(prop)] = 1\n",
        "        counts[int(prop)]+=1\n",
        "        \n",
        "    Properties.append(property)\n",
        "    mol = Chem.MolFromSmiles(smiles)\n",
        "\n",
        "    if no < 1:\n",
        "        pil_im = Draw.MolToImage(mol, size= (250, 250), kekulize=True, wedgeBonds=True)\n",
        "        plt.imshow(np.asarray(pil_im))\n",
        "\n",
        "    atoms = create_atom_index(mol)\n",
        "    i_jbond_dict = create_ijbonddict(mol)\n",
        "\n",
        "    fingerprints = create_fingerprints(atoms, i_jbond_dict, radius)\n",
        "    Molecules.append(fingerprints)\n",
        "    \n",
        "    adjacency = create_adjacency(mol)\n",
        "    Adjacencies.append(adjacency)\n",
        "    \n",
        "    desc = np.zeros((7,))\n",
        "    desc[0] = Descriptors.MolMR(mol)\n",
        "    desc[1] = Descriptors.MolLogP(mol)\n",
        "    desc[2] = Descriptors.MolWt(mol)\n",
        "    desc[3] = Descriptors.NumRotatableBonds(mol)\n",
        "    desc[4] = Descriptors.NumAliphaticRings(mol)\n",
        "    desc[5] = Descriptors.NumAromaticRings(mol)\n",
        "    desc[6] = Descriptors.NumSaturatedRings(mol)\n",
        "    \n",
        "    descriptors.append(desc)\n",
        "\n",
        "dir_input = ('pathway/')\n",
        "os.makedirs(dir_input, exist_ok=True)\n",
        "dump_dictionary(atom_dict, dir_input + 'atom_dict.pickle')\n",
        "dump_dictionary(bond_dict, dir_input + 'bond_dict.pickle')\n",
        "dump_dictionary(fingerprint_dict, dir_input + 'fingerprint_dict.pickle')"
      ],
      "metadata": {
        "colab": {
          "base_uri": "https://localhost:8080/",
          "height": 286
        },
        "id": "MujAo5V1wRdw",
        "outputId": "61169cfc-db09-4b11-f609-dc8a2e7d9751"
      },
      "execution_count": null,
      "outputs": [
        {
          "output_type": "stream",
          "name": "stdout",
          "text": [
            "Total number of molecules : 6669\n"
          ]
        },
        {
          "output_type": "display_data",
          "data": {
            "image/png": "[encoded data removed]",
            "text/plain": [
              "<Figure size 432x288 with 1 Axes>"
            ]
          },
          "metadata": {
            "needs_background": "light"
          }
        }
      ]
    },
    {
      "cell_type": "code",
      "source": [
        "import seaborn as sns\n",
        "\n",
        "classes = [\"Carbohydrate metabolism\", \"energy metabolism\", \"lipid metabolism\", \"nucleotide metabolism\", \"amino acid metabolism\", \"metabolism of other amino acids\", \"glycan biosynthesis and metabolism\", \"metabolism of cofactors and vitamins\", \"metabolism of terpenoids and polyketides\", \"biosynthesis of other secondary metabolites\", \"xenobiotics biodegradation and metabolism\"]\n",
        "sns.barplot(x = counts, y = classes)\n",
        "plt.xlabel(\"count\")\n",
        "plt.show()"
      ],
      "metadata": {
        "colab": {
          "base_uri": "https://localhost:8080/",
          "height": 279
        },
        "id": "0k16X6rBeMj-",
        "outputId": "1aba6e0c-fd67-4406-ff11-43a3a41c76e8"
      },
      "execution_count": null,
      "outputs": [
        {
          "output_type": "display_data",
          "data": {
            "image/png": "[encoded data removed]",
            "text/plain": [
              "<Figure size 432x288 with 1 Axes>"
            ]
          },
          "metadata": {
            "needs_background": "light"
          }
        }
      ]
    },
    {
      "cell_type": "code",
      "source": [
        "print(Adjacencies[:1])"
      ],
      "metadata": {
        "colab": {
          "base_uri": "https://localhost:8080/"
        },
        "id": "TPVJ7Vyg27lg",
        "outputId": "18efa833-5470-4b25-9f3b-54b0f25ee284"
      },
      "execution_count": null,
      "outputs": [
        {
          "output_type": "stream",
          "name": "stdout",
          "text": [
            "[array([[0.5       , 0.35355339, 0.        , 0.        , 0.        ,\n",
            "        0.        ],\n",
            "       [0.35355339, 0.25      , 0.35355339, 0.25      , 0.        ,\n",
            "        0.        ],\n",
            "       [0.        , 0.35355339, 0.5       , 0.        , 0.        ,\n",
            "        0.        ],\n",
            "       [0.        , 0.25      , 0.        , 0.25      , 0.35355339,\n",
            "        0.35355339],\n",
            "       [0.        , 0.        , 0.        , 0.35355339, 0.5       ,\n",
            "        0.        ],\n",
            "       [0.        , 0.        , 0.        , 0.35355339, 0.        ,\n",
            "        0.5       ]])]\n"
          ]
        }
      ]
    },
    {
      "cell_type": "code",
      "source": [
        "if torch.cuda.is_available():\n",
        "    device = torch.device('cuda')\n",
        "else:\n",
        "    device = torch.device('cpu')"
      ],
      "metadata": {
        "id": "k-cW7AhSwOhh"
      },
      "execution_count": null,
      "outputs": []
    },
    {
      "cell_type": "code",
      "source": [
        "class PathwayPredictor(nn.Module):\n",
        "    \n",
        "    def __init__(self):\n",
        "        super(PathwayPredictor, self).__init__()\n",
        "        self.embed_atom = nn.Embedding(n_fingerprint, dim)\n",
        "        self.W_atom = nn.ModuleList([nn.Linear(dim, dim) for _ in range(layer)])\n",
        "        self.W_property = nn.Linear(dim+extra_dim, 11)\n",
        "    \n",
        "    \"\"\"Pad adjacency matrices for batch processing.\"\"\"\n",
        "    def pad(self, matrices, value):\n",
        "        sizes = [d.shape[0] for d in matrices]\n",
        "        D = sum(sizes)\n",
        "        pad_matrices = value + np.zeros((D, D))\n",
        "        m = 0\n",
        "        for i, d in enumerate(matrices):\n",
        "            s_i = sizes[i]\n",
        "            pad_matrices[m:m+s_i, m:m+s_i] = d\n",
        "            m += s_i\n",
        "        return torch.FloatTensor(pad_matrices).to(device)\n",
        "    \n",
        "    def sum_axis(self, xs, axis):\n",
        "        y = list(map(lambda x: torch.sum(x, 0), torch.split(xs, axis)))\n",
        "        return torch.stack(y)\n",
        "    \n",
        "    def update(self, xs, adjacency, i):\n",
        "        hs = torch.relu(self.W_atom[i](xs))\n",
        "        return torch.matmul(adjacency, hs)\n",
        "    \n",
        "    def forward(self, inputs, sel_desc):\n",
        "        atoms, adjacency = inputs\n",
        "        axis = list(map(lambda x: len(x), atoms))\n",
        "        atoms = torch.cat(atoms)\n",
        "        x_atoms = self.embed_atom(atoms)\n",
        "        adjacency = self.pad(adjacency, 0)\n",
        "\n",
        "        for i in range(layer):\n",
        "            x_atoms = self.update(x_atoms, adjacency, i)\n",
        "        \n",
        "        extra_inputs = sel_desc.to(device)\n",
        "        y_molecules = self.sum_axis(x_atoms, axis)\n",
        "        y_molecules = torch.cat((y_molecules,extra_inputs),1)\n",
        "        z_properties = self.W_property(y_molecules)\n",
        "        \n",
        "        return z_properties\n",
        "    \n",
        "    def __call__(self, data_batch, train=True):\n",
        "        sel_desc = torch.FloatTensor(data_batch[-1])\n",
        "        inputs, t_properties = data_batch[:-2], torch.cat(data_batch[-2])\n",
        "        z_properties = self.forward(inputs, sel_desc)\n",
        "\n",
        "        if train:\n",
        "            loss = F.binary_cross_entropy(torch.sigmoid(z_properties), t_properties)\n",
        "            return loss\n",
        "        else:\n",
        "            zs = torch.sigmoid(z_properties).to('cpu').data.numpy()\n",
        "            ts = t_properties.to('cpu').data.numpy()\n",
        "            scores = list(map(lambda x: x, zs))\n",
        "            labels = list(map(lambda x: (x>=0.5).astype(int), zs))\n",
        "            return scores, labels, ts"
      ],
      "metadata": {
        "id": "TUI6iBZMwTG3"
      },
      "execution_count": null,
      "outputs": []
    },
    {
      "cell_type": "code",
      "source": [
        "class Trainer(object):\n",
        "    def __init__(self, model):\n",
        "        self.model = model\n",
        "        self.optimizer = optim.Adam(self.model.parameters(), lr=lr)\n",
        "        \n",
        "    def train(self, dataset_train):\n",
        "        N = len(dataset_train)\n",
        "        loss_total = 0\n",
        "        for i in range(0, N, batch):\n",
        "            data_batch = list(zip(*dataset_train[i:i+batch]))\n",
        "            loss = self.model(data_batch)\n",
        "            self.optimizer.zero_grad()\n",
        "            loss.backward()\n",
        "            self.optimizer.step()\n",
        "            loss_total += loss.to('cpu').data.numpy()\n",
        "        return loss_total\n",
        "\n",
        "class Tester(object):\n",
        "    def __init__(self, model):\n",
        "        self.model = model\n",
        "\n",
        "    def test(self, dataset_test):\n",
        "        N = len(dataset_test)\n",
        "        score_list, label_list, t_list = [], [], []\n",
        "\n",
        "        for i in range(0, N, batch):\n",
        "            data_batch = list(zip(*dataset_test[i:i+batch]))\n",
        "            scores, labels, ts = self.model(data_batch, train=False)\n",
        "            score_list = np.append(score_list, scores)\n",
        "            label_list = np.append(label_list, labels)\n",
        "            t_list = np.append(t_list, ts)\n",
        "        \n",
        "        auc = accuracy_score(t_list, label_list)\n",
        "        precision = precision_score(t_list, label_list)\n",
        "        recall = recall_score(t_list, label_list)\n",
        "        \n",
        "        return auc, precision, recall"
      ],
      "metadata": {
        "id": "lvfNIwLUwuqb"
      },
      "execution_count": null,
      "outputs": []
    },
    {
      "cell_type": "code",
      "source": [
        "dim = 70\n",
        "extra_dim = 7\n",
        "layer = 2\n",
        "batch = 10\n",
        "lr = 1e-3\n",
        "lr_decay = 0.50\n",
        "decay_interval = 20\n",
        "iteration = 50\n",
        "\n",
        "Molecules = [torch.LongTensor(d).to(device) for d in Molecules]\n",
        "t_properties = [torch.FloatTensor(d).to(device) for d in Properties]\n",
        "descriptors = np.array(descriptors)\n",
        "\n",
        "dataset = list(zip(Molecules, Adjacencies, t_properties, descriptors))\n",
        "\n",
        "from sklearn.model_selection import train_test_split\n",
        "dataset_train, dataset_test = train_test_split(dataset, test_size=0.1)\n",
        "\n",
        "n_fingerprint = len(fingerprint_dict)"
      ],
      "metadata": {
        "id": "56OrQ_ERwxgW"
      },
      "execution_count": null,
      "outputs": []
    },
    {
      "cell_type": "code",
      "source": [
        "torch.manual_seed(123)\n",
        "\n",
        "model = PathwayPredictor().to(device)\n",
        "trainer = Trainer(model)\n",
        "tester = Tester(model)\n",
        "\n",
        "print('Training...')\n",
        "print('Epoch \\t Time(sec) \\t Loss_train \\t AUC_test \\t Precision \\t Recall')\n",
        "\n",
        "start = timeit.default_timer()\n",
        "Loss = []\n",
        "Auc_Test = []\n",
        "Precision = []\n",
        "Recall =[]\n",
        "for epoch in range(iteration):\n",
        "    if (epoch+1) % decay_interval == 0:\n",
        "        trainer.optimizer.param_groups[0]['lr'] *= lr_decay\n",
        "\n",
        "    loss = trainer.train(dataset_train)\n",
        "    Loss.append(loss)\n",
        "    auc_test, precision, recall = tester.test(dataset_test)\n",
        "    Auc_Test.append(auc_test)\n",
        "    Precision.append(precision)\n",
        "    Recall.append(recall)\n",
        "\n",
        "    lr_rate = trainer.optimizer.param_groups[0]['lr']\n",
        "\n",
        "    end  = timeit.default_timer()\n",
        "    time = end - start\n",
        "\n",
        "    print('%d \\t %.4f \\t %.4f \\t %.4f \\t %.4f \\t %.4f' %(epoch+1, time, loss, auc_test, precision, recall))"
      ],
      "metadata": {
        "colab": {
          "base_uri": "https://localhost:8080/"
        },
        "id": "c-BNmPOLw0fB",
        "outputId": "465b12ce-3bf3-4d8c-a47d-363945d98ece"
      },
      "execution_count": null,
      "outputs": [
        {
          "output_type": "stream",
          "name": "stdout",
          "text": [
            "Training...\n",
            "Epoch \t Time(sec) \t Loss_train \t AUC_test \t Precision \t Recall\n"
          ]
        },
        {
          "output_type": "stream",
          "name": "stderr",
          "text": [
            "/usr/local/lib/python3.7/dist-packages/ipykernel_launcher.py:47: UserWarning: Creating a tensor from a list of numpy.ndarrays is extremely slow. Please consider converting the list to a single numpy.ndarray with numpy.array() before converting to a tensor. (Triggered internally at  ../torch/csrc/utils/tensor_new.cpp:201.)\n"
          ]
        },
        {
          "output_type": "stream",
          "name": "stdout",
          "text": [
            "1 \t 4.1342 \t 560.5357 \t 0.8915 \t 0.6689 \t 0.5446\n",
            "2 \t 9.4865 \t 146.9324 \t 0.9109 \t 0.7256 \t 0.6503\n",
            "3 \t 15.8662 \t 120.8863 \t 0.9214 \t 0.7522 \t 0.7077\n",
            "4 \t 23.2976 \t 102.3434 \t 0.9309 \t 0.7744 \t 0.7596\n",
            "5 \t 28.3248 \t 88.6333 \t 0.9349 \t 0.7778 \t 0.7905\n",
            "6 \t 31.7434 \t 77.3113 \t 0.9402 \t 0.7903 \t 0.8169\n",
            "7 \t 35.1162 \t 68.6262 \t 0.9436 \t 0.7923 \t 0.8443\n",
            "8 \t 38.4770 \t 61.0964 \t 0.9453 \t 0.7936 \t 0.8579\n",
            "9 \t 41.7874 \t 54.7912 \t 0.9482 \t 0.7997 \t 0.8725\n",
            "10 \t 45.0939 \t 49.5898 \t 0.9508 \t 0.8089 \t 0.8789\n",
            "11 \t 48.3891 \t 45.1833 \t 0.9546 \t 0.8201 \t 0.8925\n",
            "12 \t 51.7594 \t 41.8056 \t 0.9567 \t 0.8294 \t 0.8944\n",
            "13 \t 55.1757 \t 39.1522 \t 0.9583 \t 0.8379 \t 0.8944\n",
            "14 \t 58.4709 \t 36.4231 \t 0.9592 \t 0.8441 \t 0.8925\n",
            "15 \t 61.7998 \t 34.6316 \t 0.9613 \t 0.8533 \t 0.8953\n",
            "16 \t 65.1123 \t 33.1086 \t 0.9618 \t 0.8619 \t 0.8871\n",
            "17 \t 68.4498 \t 31.6669 \t 0.9620 \t 0.8634 \t 0.8862\n",
            "18 \t 71.7651 \t 30.6272 \t 0.9643 \t 0.8725 \t 0.8916\n",
            "19 \t 75.0856 \t 29.4705 \t 0.9632 \t 0.8677 \t 0.8898\n",
            "20 \t 78.4829 \t 23.9668 \t 0.9667 \t 0.8847 \t 0.8944\n",
            "21 \t 82.1772 \t 22.2153 \t 0.9669 \t 0.8820 \t 0.8989\n",
            "22 \t 85.6335 \t 21.2469 \t 0.9669 \t 0.8793 \t 0.9026\n",
            "23 \t 89.3030 \t 20.6320 \t 0.9677 \t 0.8827 \t 0.9044\n",
            "24 \t 92.7438 \t 20.2043 \t 0.9677 \t 0.8840 \t 0.9026\n",
            "25 \t 96.1634 \t 19.7856 \t 0.9673 \t 0.8810 \t 0.9035\n",
            "26 \t 99.5734 \t 19.4086 \t 0.9678 \t 0.8835 \t 0.9044\n",
            "27 \t 102.9203 \t 19.0172 \t 0.9687 \t 0.8868 \t 0.9062\n",
            "28 \t 106.3629 \t 18.6934 \t 0.9682 \t 0.8844 \t 0.9062\n",
            "29 \t 109.8021 \t 18.3782 \t 0.9684 \t 0.8852 \t 0.9062\n",
            "30 \t 113.3348 \t 18.0462 \t 0.9678 \t 0.8828 \t 0.9053\n",
            "31 \t 117.3429 \t 17.7489 \t 0.9682 \t 0.8858 \t 0.9044\n",
            "32 \t 120.8671 \t 17.4886 \t 0.9677 \t 0.8840 \t 0.9026\n",
            "33 \t 124.4027 \t 17.1338 \t 0.9682 \t 0.8858 \t 0.9044\n",
            "34 \t 127.9987 \t 16.9547 \t 0.9672 \t 0.8809 \t 0.9026\n",
            "35 \t 131.6421 \t 16.7230 \t 0.9684 \t 0.8873 \t 0.9035\n",
            "36 \t 135.2954 \t 16.4467 \t 0.9680 \t 0.8856 \t 0.9026\n",
            "37 \t 138.9799 \t 16.2811 \t 0.9685 \t 0.8867 \t 0.9053\n",
            "38 \t 142.5943 \t 16.0324 \t 0.9688 \t 0.8890 \t 0.9044\n",
            "39 \t 146.2837 \t 15.8536 \t 0.9680 \t 0.8836 \t 0.9053\n",
            "40 \t 150.0657 \t 13.6220 \t 0.9681 \t 0.8892 \t 0.8989\n",
            "41 \t 153.8127 \t 13.0463 \t 0.9688 \t 0.8897 \t 0.9035\n",
            "42 \t 157.5155 \t 12.8285 \t 0.9692 \t 0.8907 \t 0.9053\n",
            "43 \t 161.2119 \t 12.6806 \t 0.9693 \t 0.8894 \t 0.9080\n",
            "44 \t 164.9428 \t 12.5586 \t 0.9697 \t 0.8918 \t 0.9080\n",
            "45 \t 169.7731 \t 12.4395 \t 0.9696 \t 0.8903 \t 0.9089\n",
            "46 \t 173.7237 \t 12.3218 \t 0.9699 \t 0.8919 \t 0.9089\n",
            "47 \t 177.4979 \t 12.2213 \t 0.9706 \t 0.8952 \t 0.9098\n",
            "48 \t 181.2703 \t 12.0867 \t 0.9704 \t 0.8944 \t 0.9098\n",
            "49 \t 185.0187 \t 12.0005 \t 0.9702 \t 0.8928 \t 0.9098\n",
            "50 \t 188.7671 \t 11.8922 \t 0.9702 \t 0.8928 \t 0.9098\n"
          ]
        }
      ]
    },
    {
      "cell_type": "code",
      "source": [
        "plt.figure(figsize=(15, 4))\n",
        "\n",
        "plt.subplot(1, 4, 1)\n",
        "plt.plot(range(iteration), Loss)\n",
        "plt.title(\"iteration vs Loss\")\n",
        "\n",
        "plt.subplot(1, 4, 2)\n",
        "plt.plot(range(iteration), Auc_Test)\n",
        "plt.title(\"iteration vs Auc_Test\")\n",
        "\n",
        "plt.subplot(1, 4, 3)\n",
        "plt.plot(range(iteration), Precision)\n",
        "plt.title(\"iteration vs Precision\")\n",
        "\n",
        "plt.subplot(1, 4, 4)\n",
        "plt.plot(range(iteration), Recall)\n",
        "plt.title(\"iteration vs Recall\")\n",
        "\n",
        "plt.show()"
      ],
      "metadata": {
        "colab": {
          "base_uri": "https://localhost:8080/",
          "height": 281
        },
        "id": "O3ldBxMOAiii",
        "outputId": "0dd4adad-0372-41e5-acea-8d6c59c348ff"
      },
      "execution_count": null,
      "outputs": [
        {
          "output_type": "display_data",
          "data": {
            "image/png": "[encoded data removed]",
            "text/plain": [
              "<Figure size 1080x288 with 4 Axes>"
            ]
          },
          "metadata": {
            "needs_background": "light"
          }
        }
      ]
    },
    {
      "cell_type": "code",
      "source": [
        "data_batch = list(zip(*dataset_test[:]))\n",
        "\n",
        "sel_desc = torch.FloatTensor(data_batch[-1])    \n",
        "inputs, t_properties = data_batch[:-2], torch.cat(data_batch[-2])\n",
        "z_properties = model.forward(inputs, sel_desc)\n",
        "\n",
        "torch.set_printoptions(precision=2)\n",
        "p_properties = torch.sigmoid(z_properties)\n",
        "\n",
        "p_properties = p_properties.data.to('cpu').numpy()\n",
        "t_properties = t_properties.data.to('cpu').numpy()\n",
        "\n",
        "p_properties[p_properties<0.5]  = 0\n",
        "p_properties[p_properties>=0.5] = 1\n",
        "\n",
        "Auc = []\n",
        "Precision = []\n",
        "Recall = []\n",
        "\n",
        "for c in range(11):\n",
        "    y_true = t_properties[:,c]\n",
        "    y_pred = p_properties[:,c]\n",
        "    \n",
        "    auc = accuracy_score(y_true, y_pred)\n",
        "    Auc.append(auc)\n",
        "    precision = precision_score(y_true, y_pred)\n",
        "    Precision.append(precision)\n",
        "    recall = recall_score(y_true, y_pred)\n",
        "    Recall.append(recall)\n",
        "    print('Class '+str(c+1)+' statistics:')\n",
        "    print('Accuracy %.4f, Precision %.4f, Recall %.4f\\n' %(auc, precision, recall))"
      ],
      "metadata": {
        "colab": {
          "base_uri": "https://localhost:8080/"
        },
        "id": "eHqplsG5w9On",
        "outputId": "2622a10e-92a0-4052-e691-a09beebc7b3a"
      },
      "execution_count": null,
      "outputs": [
        {
          "output_type": "stream",
          "name": "stdout",
          "text": [
            "Class 1 statistics:\n",
            "Accuracy 0.9790, Precision 0.9280, Recall 0.9587\n",
            "\n",
            "Class 2 statistics:\n",
            "Accuracy 0.9835, Precision 0.8800, Recall 0.9706\n",
            "\n",
            "Class 3 statistics:\n",
            "Accuracy 0.9805, Precision 0.9065, Recall 0.9700\n",
            "\n",
            "Class 4 statistics:\n",
            "Accuracy 0.9910, Precision 0.8286, Recall 1.0000\n",
            "\n",
            "Class 5 statistics:\n",
            "Accuracy 0.9415, Precision 0.8792, Recall 0.8618\n",
            "\n",
            "Class 6 statistics:\n",
            "Accuracy 0.9820, Precision 0.8871, Recall 0.9167\n",
            "\n",
            "Class 7 statistics:\n",
            "Accuracy 0.9910, Precision 0.9355, Recall 0.8788\n",
            "\n",
            "Class 8 statistics:\n",
            "Accuracy 0.9595, Precision 0.9167, Recall 0.7586\n",
            "\n",
            "Class 9 statistics:\n",
            "Accuracy 0.9580, Precision 0.8433, Recall 0.9417\n",
            "\n",
            "Class 10 statistics:\n",
            "Accuracy 0.9445, Precision 0.8848, Recall 0.9185\n",
            "\n",
            "Class 11 statistics:\n",
            "Accuracy 0.9610, Precision 0.9275, Recall 0.8889\n",
            "\n"
          ]
        }
      ]
    },
    {
      "cell_type": "code",
      "source": [
        "torch.save(model.state_dict(), \"gnc.pth\")"
      ],
      "metadata": {
        "id": "rQHvl9Wx3RAh"
      },
      "execution_count": null,
      "outputs": []
    },
    {
      "cell_type": "code",
      "source": [
        "model = PathwayPredictor().to(device)\n",
        "model.load_state_dict(torch.load(\"gnc.pth\"))\n",
        "model.eval()"
      ],
      "metadata": {
        "colab": {
          "base_uri": "https://localhost:8080/"
        },
        "id": "ppA69hFw395W",
        "outputId": "56ef47df-d973-44aa-b8d7-1dcad3e0b96f"
      },
      "execution_count": null,
      "outputs": [
        {
          "output_type": "execute_result",
          "data": {
            "text/plain": [
              "PathwayPredictor(\n",
              "  (embed_atom): Embedding(4382, 70)\n",
              "  (W_atom): ModuleList(\n",
              "    (0): Linear(in_features=70, out_features=70, bias=True)\n",
              "    (1): Linear(in_features=70, out_features=70, bias=True)\n",
              "  )\n",
              "  (W_property): Linear(in_features=77, out_features=11, bias=True)\n",
              ")"
            ]
          },
          "metadata": {},
          "execution_count": 24
        }
      ]
    },
    {
      "cell_type": "markdown",
      "source": [
        "#Multi-class Random Forest"
      ],
      "metadata": {
        "id": "ikDoOPmIxeT8"
      }
    },
    {
      "cell_type": "code",
      "source": [
        "from sklearn.ensemble import RandomForestClassifier\n",
        "from sklearn.multioutput import MultiOutputClassifier\n",
        "from sklearn.metrics import accuracy_score, precision_score, recall_score"
      ],
      "metadata": {
        "id": "JNda-eKBxgc0"
      },
      "execution_count": null,
      "outputs": []
    },
    {
      "cell_type": "code",
      "source": [
        "my_desc = []\n",
        "for i in range(len(Molecules)):\n",
        "    target_mol = (n_fingerprint-1)*torch.ones([259], dtype=torch.float, device=device)\n",
        "    target_mol[:Molecules[i].size()[0]] = Molecules[i]\n",
        "    my_desc.append(np.concatenate((target_mol.cpu().data.numpy(), descriptors[i]), axis=0))\n",
        "\n",
        "dataset = list(zip(t_properties, my_desc))\n",
        "\n",
        "from sklearn.model_selection import train_test_split\n",
        "dataset_train, dataset_test = train_test_split(dataset, test_size=0.1)\n",
        "\n",
        "data_batch = list(zip(*dataset_train))\n",
        "properties_train, desc_train = data_batch[-2], data_batch[-1]\n",
        "\n",
        "data_batch = list(zip(*dataset_test))\n",
        "properties_test, desc_test = data_batch[-2], data_batch[-1]\n",
        "\n",
        "train_len, test_len = len(dataset_train), len(dataset_test)\n",
        "\n",
        "feature_len = desc_train[0].shape[0]\n",
        "\n",
        "X_train, X_test = np.zeros((train_len,feature_len)), np.zeros((test_len,feature_len))\n",
        "Y_train, Y_test = np.zeros((train_len,11)), np.zeros((test_len,11))\n",
        "\n",
        "for i in range(train_len):\n",
        "    X_train[i,:] = desc_train[i]\n",
        "    Y_train[i] = properties_train[i][0]\n",
        "    \n",
        "for i in range(test_len):\n",
        "    X_test[i,:]  = desc_test[i]\n",
        "    Y_test[i]  = properties_test[i][0]"
      ],
      "metadata": {
        "id": "hddSHxmJcy8Y"
      },
      "execution_count": null,
      "outputs": []
    },
    {
      "cell_type": "code",
      "source": [
        "clf = RandomForestClassifier(n_estimators=300, criterion = 'gini', max_depth=60, random_state=None)\n",
        "multi_target_forest = MultiOutputClassifier(clf)\n",
        "multi_target_forest.fit(X_train, Y_train)"
      ],
      "metadata": {
        "id": "gTd8CgdZxtBQ",
        "colab": {
          "base_uri": "https://localhost:8080/"
        },
        "outputId": "a07af20c-71e1-4f5a-f827-f1e903896aab"
      },
      "execution_count": null,
      "outputs": [
        {
          "output_type": "execute_result",
          "data": {
            "text/plain": [
              "MultiOutputClassifier(estimator=RandomForestClassifier(max_depth=60,\n",
              "                                                       n_estimators=300))"
            ]
          },
          "metadata": {},
          "execution_count": 38
        }
      ]
    },
    {
      "cell_type": "code",
      "source": [
        "import warnings\n",
        "warnings.filterwarnings('ignore')\n",
        "\n",
        "Y_pred = multi_target_forest.predict(X_test)\n",
        "\n",
        "acc_score, prec_score, rec_score = 0., 0., 0.\n",
        "Accuracy_RF = []\n",
        "Precision_RF = []\n",
        "Recall_RF = []\n",
        "for i in range(Y_test.shape[0]):\n",
        "    acc_score  += accuracy_score(Y_test[i],Y_pred[i])\n",
        "    Accuracy_RF.append(acc_score)\n",
        "    prec_score += precision_score(Y_test[i],Y_pred[i])\n",
        "    Precision_RF.append(prec_score)\n",
        "    rec_score  += recall_score(Y_test[i],Y_pred[i])\n",
        "    Recall_RF.append(rec_score)\n",
        "\n",
        "acc_score  = acc_score/Y_test.shape[0]\n",
        "prec_score = prec_score/Y_test.shape[0]\n",
        "rec_score  = rec_score/Y_test.shape[0]\n",
        "\n",
        "print('Accuracy : %.4f%%, \\t Precision : %.4f%%, \\t, Recall : %.4f%%' %(acc_score, prec_score, rec_score))"
      ],
      "metadata": {
        "id": "Ug6Efae2xuo7",
        "colab": {
          "base_uri": "https://localhost:8080/"
        },
        "outputId": "776588f7-fcc3-41ae-8124-0fbd801ffe33"
      },
      "execution_count": null,
      "outputs": [
        {
          "output_type": "stream",
          "name": "stdout",
          "text": [
            "Accuracy : 0.9731%, \t Precision : 0.8076%, \t, Recall : 0.8115%\n"
          ]
        }
      ]
    },
    {
      "cell_type": "markdown",
      "source": [
        "# Logistic Regression"
      ],
      "metadata": {
        "id": "WPbDP5rtOt3w"
      }
    },
    {
      "cell_type": "code",
      "source": [
        "from sklearn.linear_model import LogisticRegression\n",
        "\n",
        "clf = LogisticRegression(random_state=10)\n",
        "multi_target_lr = MultiOutputClassifier(clf)\n",
        "multi_target_lr.fit(X_train, Y_train)"
      ],
      "metadata": {
        "colab": {
          "base_uri": "https://localhost:8080/"
        },
        "id": "6CsUDLJEOlCp",
        "outputId": "e61c757f-6718-4451-c441-066153352f2a"
      },
      "execution_count": null,
      "outputs": [
        {
          "output_type": "execute_result",
          "data": {
            "text/plain": [
              "MultiOutputClassifier(estimator=LogisticRegression(random_state=10))"
            ]
          },
          "metadata": {},
          "execution_count": 15
        }
      ]
    },
    {
      "cell_type": "code",
      "source": [
        "Y_pred = multi_target_lr.predict(X_test)\n",
        "\n",
        "acc_score, prec_score, rec_score = 0., 0., 0.\n",
        "Accuracy_lr = []\n",
        "Precision_lr = []\n",
        "Recall_lr = []\n",
        "for i in range(Y_test.shape[0]):\n",
        "    acc_score += accuracy_score(Y_test[i],Y_pred[i])\n",
        "    Accuracy_lr.append(acc_score)\n",
        "    prec_score += precision_score(Y_test[i],Y_pred[i])\n",
        "    Precision_lr.append(prec_score)\n",
        "    rec_score += recall_score(Y_test[i],Y_pred[i])\n",
        "    Recall_lr.append(rec_score)\n",
        "\n",
        "acc_score = acc_score/Y_test.shape[0]\n",
        "prec_score = prec_score/Y_test.shape[0]\n",
        "rec_score = rec_score/Y_test.shape[0]\n",
        "\n",
        "print('Accuracy : %.4f%%, \\t Precision : %.4f%%, \\t, Recall : %.4f%%' %(acc_score, prec_score, rec_score))"
      ],
      "metadata": {
        "colab": {
          "base_uri": "https://localhost:8080/"
        },
        "id": "wyP_eTdXOzH_",
        "outputId": "00d4788c-2cf5-4b9a-d4e0-946b3c2ef0a7"
      },
      "execution_count": null,
      "outputs": [
        {
          "output_type": "stream",
          "name": "stdout",
          "text": [
            "Accuracy : 0.8539%, \t Precision : 0.2364%, \t, Recall : 0.1853%\n"
          ]
        }
      ]
    },
    {
      "cell_type": "markdown",
      "source": [
        "#K-Neighbors Classifier"
      ],
      "metadata": {
        "id": "P21xU7cigmRC"
      }
    },
    {
      "cell_type": "code",
      "source": [
        "from sklearn.neighbors import KNeighborsClassifier\n",
        "\n",
        "clf = KNeighborsClassifier(n_neighbors=12)\n",
        "multi_target_knn = MultiOutputClassifier(clf)\n",
        "multi_target_knn.fit(X_train, Y_train)"
      ],
      "metadata": {
        "colab": {
          "base_uri": "https://localhost:8080/"
        },
        "id": "s5nNKCFHgBeZ",
        "outputId": "78fa0476-cc36-4234-bcb5-165a5a16d969"
      },
      "execution_count": null,
      "outputs": [
        {
          "output_type": "execute_result",
          "data": {
            "text/plain": [
              "MultiOutputClassifier(estimator=KNeighborsClassifier(n_neighbors=12))"
            ]
          },
          "metadata": {},
          "execution_count": 17
        }
      ]
    },
    {
      "cell_type": "code",
      "source": [
        "Y_pred = multi_target_knn.predict(X_test)\n",
        "\n",
        "acc_score, prec_score, rec_score = 0., 0., 0.\n",
        "Accuracy_knn = []\n",
        "Precision_knn = []\n",
        "Recall_knn = []\n",
        "for i in range(Y_test.shape[0]):\n",
        "    acc_score += accuracy_score(Y_test[i],Y_pred[i])\n",
        "    Accuracy_knn.append(acc_score)\n",
        "    prec_score += precision_score(Y_test[i],Y_pred[i])\n",
        "    Precision_knn.append(prec_score)\n",
        "    rec_score += recall_score(Y_test[i],Y_pred[i])\n",
        "    Recall_knn.append(rec_score)\n",
        "\n",
        "acc_score = acc_score/Y_test.shape[0]\n",
        "prec_score = prec_score/Y_test.shape[0]\n",
        "rec_score = rec_score/Y_test.shape[0]\n",
        "\n",
        "print('Accuracy : %.4f%%, \\t Precision : %.4f%%, \\t, Recall : %.4f%%' %(acc_score, prec_score, rec_score))"
      ],
      "metadata": {
        "colab": {
          "base_uri": "https://localhost:8080/"
        },
        "id": "zHQZvYXGgLCx",
        "outputId": "cc799869-cdeb-42c8-892f-35dbbc517342"
      },
      "execution_count": null,
      "outputs": [
        {
          "output_type": "stream",
          "name": "stdout",
          "text": [
            "Accuracy : 0.8866%, \t Precision : 0.4267%, \t, Recall : 0.4200%\n"
          ]
        }
      ]
    }
  ]
}